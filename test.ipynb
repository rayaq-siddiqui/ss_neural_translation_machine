{
 "cells": [
  {
   "cell_type": "code",
   "execution_count": 1,
   "metadata": {},
   "outputs": [],
   "source": [
    "import tensorflow as tf\n",
    "from tensorflow.keras.models import Model\n",
    "from tensorflow.keras.layers import Input, LSTM, Dense\n",
    "import numpy as np\n",
    "import pandas as pd\n",
    "\n",
    "# misc libraries\n",
    "import codecs\n",
    "import argparse\n",
    "import joblib\n",
    "import pickle\n",
    "from elapsedtimer import ElapsedTimer"
   ]
  },
  {
   "cell_type": "code",
   "execution_count": 2,
   "metadata": {},
   "outputs": [],
   "source": [
    "def read_input_file(self, path, num_samples=10e13):\n",
    "        # creating the variables for file reading\n",
    "        input_texts = []\n",
    "        target_texts = []\n",
    "        input_words = set()\n",
    "        target_words = set()\n",
    "\n",
    "        with codecs.open(path, 'r', encoding='uft-8') as f:\n",
    "            lines = f.read().split('\\n')\n",
    "\n",
    "        for line in lines[:min(num_samples, len(lines)-1)]:\n",
    "            input_text, target_text = line.split('\\t')  # \\t as the start of sequence\n",
    "            target_text = '\\t ' + target_text + ' \\n'   # \\n as the end  of sequence\n",
    "            input_texts.append(input_text)\n",
    "            target_texts.append(target_text)\n",
    "            for word in input_text.split(\" \"):\n",
    "                if word not in input_words:\n",
    "                    input_words.add(word)\n",
    "            for word in target_text.split(\" \"):\n",
    "                if word not in target_words:\n",
    "                    target_words.add(word)\n",
    "        return input_texts, target_texts, input_words, target_words"
   ]
  },
  {
   "cell_type": "code",
   "execution_count": null,
   "metadata": {},
   "outputs": [],
   "source": [
    "with codecs.open('fra-eng/fra.txt', 'r', encoding='utf-8') as f:\n",
    "    lines = f.read().split('\\n')\n",
    "\n",
    "for line in lines:\n",
    "    print(line.split('\\t')[:-1])"
   ]
  }
 ],
 "metadata": {
  "interpreter": {
   "hash": "88f2885d2160c7ef25ca09125a10d90a52d28758523ac4f2ac397002a21024a1"
  },
  "kernelspec": {
   "display_name": "Python 3.8.2 ('ss_neural_translation_machine-RH031jbH')",
   "language": "python",
   "name": "python3"
  },
  "language_info": {
   "codemirror_mode": {
    "name": "ipython",
    "version": 3
   },
   "file_extension": ".py",
   "mimetype": "text/x-python",
   "name": "python",
   "nbconvert_exporter": "python",
   "pygments_lexer": "ipython3",
   "version": "3.8.2"
  },
  "orig_nbformat": 4
 },
 "nbformat": 4,
 "nbformat_minor": 2
}
